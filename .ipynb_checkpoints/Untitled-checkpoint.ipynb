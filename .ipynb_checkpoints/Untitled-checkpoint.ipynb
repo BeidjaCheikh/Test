{
 "cells": [
  {
   "cell_type": "code",
   "execution_count": null,
   "id": "5447feef",
   "metadata": {},
   "outputs": [],
   "source": [
    "!pip install tensorflow==1.15.0\n",
    "\n"
   ]
  },
  {
   "cell_type": "code",
   "execution_count": null,
   "id": "c79b8cae",
   "metadata": {},
   "outputs": [],
   "source": [
    "import tensorflow as tf\n",
    "import numpy as np\n",
    "import pandas as pd\n",
    "import tempfile\n",
    "from sklearn.model_selection import train_test_split"
   ]
  },
  {
   "cell_type": "code",
   "execution_count": null,
   "id": "57033de3",
   "metadata": {},
   "outputs": [],
   "source": [
    "data = pd.DataFrame(pd.read_csv(\"Car_Data.csv\"))\n",
    "data.head(100)"
   ]
  },
  {
   "cell_type": "code",
   "execution_count": null,
   "id": "e4033777",
   "metadata": {},
   "outputs": [],
   "source": [
    "print('buying data is : ' , data['buying'].unique())\n",
    "print('maint data is : ' , data['maint'].unique())\n",
    "print('doors data is : ' , data['doors'].unique())\n",
    "print('persons data is : ' , data['persons'].unique())\n",
    "print('lug_boot data is : ' , data['lug_boot'].unique())\n",
    "print('safety data is : ' , data['safety'].unique())\n",
    "print('rating data is : ' , data['rating'].unique())"
   ]
  },
  {
   "cell_type": "code",
   "execution_count": null,
   "id": "b021a8b3",
   "metadata": {},
   "outputs": [],
   "source": [
    "buying_mapping = {'vhigh': 0,'high': 1,'med': 2,'low': 3}\n",
    "maint_mapping = {'vhigh': 0,'high': 1,'med': 2,'low': 3}\n",
    "doors_mapping = {'2': 0,'3': 1,'4': 2,'5more': 3}\n",
    "persons_mapping = {'2': 0,'4': 1,'more': 2}\n",
    "lug_boot_mapping = {'small': 0,'med': 1,'big': 2}\n",
    "safety_mapping = {'low': 0,'med': 1,'high': 2}\n",
    "rating_mapping = {'unacc': 0,'acc': 1,'good': 2,'vgood': 3}"
   ]
  },
  {
   "cell_type": "code",
   "execution_count": null,
   "id": "e9af831f",
   "metadata": {},
   "outputs": [],
   "source": [
    "data['buying']=data['buying'].map(buying_mapping)\n",
    "data['maint'] = data['maint'].map(maint_mapping)\n",
    "data['doors'] = data['doors'].map(doors_mapping)\n",
    "data['persons'] = data['persons'].map(persons_mapping)\n",
    "data['lug_boot'] = data['lug_boot'].map(lug_boot_mapping)\n",
    "data['safety'] = data['safety'].map(safety_mapping)\n",
    "data['rating'] = data['rating'].map(rating_mapping)"
   ]
  },
  {
   "cell_type": "code",
   "execution_count": null,
   "id": "f09ce923",
   "metadata": {},
   "outputs": [],
   "source": [
    "data.head(100)\n"
   ]
  },
  {
   "cell_type": "code",
   "execution_count": null,
   "id": "692d11a9",
   "metadata": {},
   "outputs": [],
   "source": [
    "data['buying']=data['buying'].map(buying_mapping)\n",
    "data['maint'] = data['maint'].map(maint_mapping)\n",
    "data['doors'] = data['doors'].map(doors_mapping)\n",
    "data['persons'] = data['persons'].map(persons_mapping)\n",
    "data['lug_boot'] = data['lug_boot'].map(lug_boot_mapping)\n",
    "data['safety'] = data['safety'].map(safety_mapping)\n",
    "data['rating'] "
   ]
  },
  {
   "cell_type": "code",
   "execution_count": null,
   "id": "70e6b2d8",
   "metadata": {},
   "outputs": [],
   "source": [
    "features=data[['buying','maint','doors','persons','lug_boot','safety']].values"
   ]
  },
  {
   "cell_type": "code",
   "execution_count": null,
   "id": "5e50bba0",
   "metadata": {},
   "outputs": [],
   "source": [
    "features"
   ]
  },
  {
   "cell_type": "code",
   "execution_count": null,
   "id": "479046f7",
   "metadata": {},
   "outputs": [],
   "source": [
    "target=data['rating'].values"
   ]
  },
  {
   "cell_type": "code",
   "execution_count": null,
   "id": "d24c6a23",
   "metadata": {},
   "outputs": [],
   "source": [
    "target"
   ]
  },
  {
   "cell_type": "code",
   "execution_count": null,
   "id": "e7a9d556",
   "metadata": {},
   "outputs": [],
   "source": [
    "X_train, X_test, y_train, y_test = train_test_split(features, target, test_size=0.3, random_state=42)"
   ]
  },
  {
   "cell_type": "code",
   "execution_count": null,
   "id": "7b326f9b",
   "metadata": {},
   "outputs": [],
   "source": [
    "print(\"X_train\",X_train.shape)\n",
    "print(\"X_test\",X_test.shape)\n",
    "print(\"y_train\",y_train.shape)\n",
    "print(\"y_test\",y_test.shape)"
   ]
  },
  {
   "cell_type": "code",
   "execution_count": null,
   "id": "2e74ebd2",
   "metadata": {},
   "outputs": [],
   "source": [
    "# Specify that all features have real-value data\n",
    "feature_columns = [tf.contrib.layers.real_valued_column(\"\", dimension=6)]\n",
    "\n",
    "# Build 3 layer DNN with 512, 256, 128 units respectively.\n",
    "classifier = tf.contrib.learn.DNNClassifier(feature_columns=feature_columns,\n",
    "                                            hidden_units=[512, 256, 128],\n",
    "                                            n_classes=4,\n",
    "                                            optimizer=tf.train.ProximalAdagradOptimizer(\n",
    "                                                learning_rate=0.15,\n",
    "                                                l1_regularization_strength=0.001\n",
    "                                            ))"
   ]
  },
  {
   "cell_type": "raw",
   "id": "56963c3d",
   "metadata": {},
   "source": [
    "Ici, on définit les caractéristiques (ou attributs) que le modèle va utiliser pour prendre ses décisions. Dans ce cas, il y a une seule caractéristique qui est réelle (nombre à virgule flottante) et elle a une dimension de 6. Cela signifie que le modèle s'attend à recevoir une entrée de 6 valeurs réelles."
   ]
  },
  {
   "cell_type": "code",
   "execution_count": null,
   "id": "1372c2ba",
   "metadata": {},
   "outputs": [],
   "source": []
  },
  {
   "cell_type": "code",
   "execution_count": null,
   "id": "81c9cd84",
   "metadata": {},
   "outputs": [],
   "source": []
  }
 ],
 "metadata": {
  "kernelspec": {
   "display_name": "Python 3 (ipykernel)",
   "language": "python",
   "name": "python3"
  },
  "language_info": {
   "codemirror_mode": {
    "name": "ipython",
    "version": 3
   },
   "file_extension": ".py",
   "mimetype": "text/x-python",
   "name": "python",
   "nbconvert_exporter": "python",
   "pygments_lexer": "ipython3",
   "version": "3.11.4"
  }
 },
 "nbformat": 4,
 "nbformat_minor": 5
}
